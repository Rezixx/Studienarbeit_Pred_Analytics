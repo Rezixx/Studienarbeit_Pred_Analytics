{
 "cells": [
  {
   "cell_type": "code",
   "execution_count": 1,
   "metadata": {},
   "outputs": [],
   "source": [
    "import os\n",
    "os.environ[\"OMP_NUM_THREADS\"] = '1'"
   ]
  },
  {
   "cell_type": "code",
   "execution_count": 2,
   "metadata": {},
   "outputs": [],
   "source": [
    "import pandas as pd\n",
    "import numpy as np\n",
    "import random\n",
    "import matplotlib.pyplot as plt\n",
    "\n",
    "from sklearn.preprocessing import StandardScaler\n",
    "from sklearn.metrics import silhouette_score\n",
    "import plotly.graph_objects as go\n",
    "from sklearn.cluster import KMeans\n",
    "\n",
    "# Set seed for reproducibility\n",
    "np.random.seed(42)  # Set seed for NumPy\n",
    "random.seed(42) # Set seed for random module"
   ]
  },
  {
   "cell_type": "code",
   "execution_count": 3,
   "metadata": {},
   "outputs": [],
   "source": [
    "# Data import\n",
    "person = pd.read_csv(\"https://raw.githubusercontent.com/Rezixx/Studienarbeit_Pred_Analytics/refs/heads/main/metadata/person.csv\")\n",
    "appliances = pd.read_csv(\"https://raw.githubusercontent.com/Rezixx/Studienarbeit_Pred_Analytics/refs/heads/main/metadata/appliance.csv\")\n",
    "other_appliances = pd.read_csv(\"https://raw.githubusercontent.com/Rezixx/Studienarbeit_Pred_Analytics/refs/heads/main/metadata/other_appliance.csv\")\n",
    "home = pd.read_csv(\"https://raw.githubusercontent.com/Rezixx/Studienarbeit_Pred_Analytics/refs/heads/main/metadata/home.csv\")\n",
    "survey = pd.read_csv(\"https://raw.githubusercontent.com/Rezixx/Studienarbeit_Pred_Analytics/refs/heads/main/survey_data/survey_responses.csv\")\n",
    "energy = pd.read_csv(\"https://media.githubusercontent.com/media/Rezixx/Studienarbeit_Pred_Analytics/refs/heads/main/sensor_data/household_sensors_electric.csv\")"
   ]
  },
  {
   "cell_type": "code",
   "execution_count": 4,
   "metadata": {},
   "outputs": [
    {
     "name": "stderr",
     "output_type": "stream",
     "text": [
      "<>:3: SyntaxWarning: invalid escape sequence '\\d'\n",
      "<>:3: SyntaxWarning: invalid escape sequence '\\d'\n",
      "C:\\Users\\Felix\\AppData\\Local\\Temp\\ipykernel_27900\\458620188.py:3: SyntaxWarning: invalid escape sequence '\\d'\n",
      "  total_consumption_per_home['home'] = total_consumption_per_home['consumer_id'].str.extract('(\\d+)').astype(int)\n"
     ]
    }
   ],
   "source": [
    "# Group total energy consumption per home\n",
    "total_consumption_per_home = energy.groupby('consumer_id', as_index=False)['total_consumption_Wh'].sum()\n",
    "total_consumption_per_home['home'] = total_consumption_per_home['consumer_id'].str.extract('(\\d+)').astype(int)\n",
    "total_consumption_per_home = total_consumption_per_home.drop(columns=['consumer_id'])"
   ]
  },
  {
   "cell_type": "code",
   "execution_count": 5,
   "metadata": {},
   "outputs": [],
   "source": [
    "# Group and calculate appliances per household\n",
    "appliances = appliances[appliances['powertype'] == 'electric']\n",
    "appliances = appliances.drop(columns=['appliancetype', 'applianceclass', 'appliancesubtype', 'roomid'])\n",
    "appliances[\"amount\"] = 1 * appliances[\"number\"]\n",
    "appliances.drop(columns=['number'], inplace=True)\n",
    "appliances_group = appliances.groupby('homeid', as_index=False)[\"amount\"].sum()\n",
    "\n",
    "# Group and calculate other_appliances per household\n",
    "other_appliances['num_clean'] = other_appliances['number'].str.replace(r'\\D', '', regex=True)\n",
    "other_appliances['num_clean'] = other_appliances['num_clean'].astype(int)\n",
    "other_appliances = other_appliances[~other_appliances['appliance_name'].str.contains('gas', case=False, na=False)]\n",
    "other_appliances[\"amount\"] = 1 * other_appliances[\"num_clean\"]\n",
    "other_appliances.drop(columns=['number', 'num_clean'], inplace=True)\n",
    "other_appliances_group = other_appliances.groupby('homeid', as_index=False)[\"amount\"].sum()\n",
    "\n",
    "# Merge the two dataframes\n",
    "appliances_merged = pd.merge(appliances_group, other_appliances_group, on='homeid', how='inner')\n",
    "appliances_merged['total_appliances'] = appliances_merged['amount_x'] + appliances_merged['amount_y']\n",
    "appliances_merged = appliances_merged.drop(columns=['amount_x', 'amount_y'])\n",
    "appliances_merged = appliances_merged.rename(columns={'homeid': 'home'})"
   ]
  },
  {
   "cell_type": "code",
   "execution_count": 6,
   "metadata": {},
   "outputs": [
    {
     "data": {
      "text/html": [
       "<div>\n",
       "<style scoped>\n",
       "    .dataframe tbody tr th:only-of-type {\n",
       "        vertical-align: middle;\n",
       "    }\n",
       "\n",
       "    .dataframe tbody tr th {\n",
       "        vertical-align: top;\n",
       "    }\n",
       "\n",
       "    .dataframe thead th {\n",
       "        text-align: right;\n",
       "    }\n",
       "</style>\n",
       "<table border=\"1\" class=\"dataframe\">\n",
       "  <thead>\n",
       "    <tr style=\"text-align: right;\">\n",
       "      <th></th>\n",
       "      <th>home</th>\n",
       "      <th>total_appliances</th>\n",
       "      <th>total_consumption_Wh</th>\n",
       "      <th>income_band_mid</th>\n",
       "    </tr>\n",
       "  </thead>\n",
       "  <tbody>\n",
       "    <tr>\n",
       "      <th>0</th>\n",
       "      <td>47</td>\n",
       "      <td>27</td>\n",
       "      <td>1187.852340</td>\n",
       "      <td>0</td>\n",
       "    </tr>\n",
       "    <tr>\n",
       "      <th>1</th>\n",
       "      <td>59</td>\n",
       "      <td>24</td>\n",
       "      <td>3103.291434</td>\n",
       "      <td>15</td>\n",
       "    </tr>\n",
       "    <tr>\n",
       "      <th>2</th>\n",
       "      <td>61</td>\n",
       "      <td>22</td>\n",
       "      <td>2136.057633</td>\n",
       "      <td>11</td>\n",
       "    </tr>\n",
       "    <tr>\n",
       "      <th>3</th>\n",
       "      <td>62</td>\n",
       "      <td>22</td>\n",
       "      <td>3562.373903</td>\n",
       "      <td>10</td>\n",
       "    </tr>\n",
       "    <tr>\n",
       "      <th>4</th>\n",
       "      <td>63</td>\n",
       "      <td>25</td>\n",
       "      <td>4879.234576</td>\n",
       "      <td>12</td>\n",
       "    </tr>\n",
       "    <tr>\n",
       "      <th>...</th>\n",
       "      <td>...</td>\n",
       "      <td>...</td>\n",
       "      <td>...</td>\n",
       "      <td>...</td>\n",
       "    </tr>\n",
       "    <tr>\n",
       "      <th>249</th>\n",
       "      <td>331</td>\n",
       "      <td>29</td>\n",
       "      <td>301.531115</td>\n",
       "      <td>12</td>\n",
       "    </tr>\n",
       "    <tr>\n",
       "      <th>250</th>\n",
       "      <td>332</td>\n",
       "      <td>24</td>\n",
       "      <td>160.567792</td>\n",
       "      <td>8</td>\n",
       "    </tr>\n",
       "    <tr>\n",
       "      <th>251</th>\n",
       "      <td>333</td>\n",
       "      <td>14</td>\n",
       "      <td>252.520378</td>\n",
       "      <td>12</td>\n",
       "    </tr>\n",
       "    <tr>\n",
       "      <th>252</th>\n",
       "      <td>334</td>\n",
       "      <td>37</td>\n",
       "      <td>637.891330</td>\n",
       "      <td>1</td>\n",
       "    </tr>\n",
       "    <tr>\n",
       "      <th>253</th>\n",
       "      <td>335</td>\n",
       "      <td>35</td>\n",
       "      <td>474.346755</td>\n",
       "      <td>14</td>\n",
       "    </tr>\n",
       "  </tbody>\n",
       "</table>\n",
       "<p>254 rows × 4 columns</p>\n",
       "</div>"
      ],
      "text/plain": [
       "     home  total_appliances  total_consumption_Wh  income_band_mid\n",
       "0      47                27           1187.852340                0\n",
       "1      59                24           3103.291434               15\n",
       "2      61                22           2136.057633               11\n",
       "3      62                22           3562.373903               10\n",
       "4      63                25           4879.234576               12\n",
       "..    ...               ...                   ...              ...\n",
       "249   331                29            301.531115               12\n",
       "250   332                24            160.567792                8\n",
       "251   333                14            252.520378               12\n",
       "252   334                37            637.891330                1\n",
       "253   335                35            474.346755               14\n",
       "\n",
       "[254 rows x 4 columns]"
      ]
     },
     "execution_count": 6,
     "metadata": {},
     "output_type": "execute_result"
    }
   ],
   "source": [
    "# Group homes with income bands\n",
    "result_grouped = home[[\"homeid\", \"income_band\"]].groupby('homeid', as_index=False).sum()\n",
    "result_grouped = result_grouped.rename(columns={'homeid': 'home'})\n",
    "\n",
    "# Merge income bands with energy consumption\n",
    "income_energy_home = pd.merge(result_grouped, total_consumption_per_home, on='home', how='inner')\n",
    "\n",
    "# Change income bands to midpoint integers\n",
    "income_midpoints = {\n",
    "    \"Missing\": 0,\n",
    "    \"less than £10,800\": 1,\n",
    "    \"£10,800 to £13,499\": 2,\n",
    "    \"£13,500 to £16,199\": 3,\n",
    "    \"£16,200 to £19,799\": 4,\n",
    "    \"£19,800 to £23,399\": 5,\n",
    "    \"£23,400 to £26,999\": 6,\n",
    "    \"£27,000 to £32,399\": 7,\n",
    "    \"£32,400 to £37,799\": 8,\n",
    "    \"£37,800 to £43,199\": 9,\n",
    "    \"£43,200 to £48,599\": 10,\n",
    "    \"£48,600 to £53,999\": 11,\n",
    "    \"£54,000 to £65,999\": 12,\n",
    "    \"£66,000 to £77,999\": 13,\n",
    "    \"£78,000 to £89,999\": 14,\n",
    "    \"£90,000 or more\": 15 }\n",
    "income_energy_home[\"income_band_mid\"] = income_energy_home[\"income_band\"].map(income_midpoints)\n",
    "income_energy_home = income_energy_home.drop(columns=['income_band'])\n",
    "\n",
    "# Merge appliances with income bands and energy consumption\n",
    "appliance_income_energy_home = pd.merge(appliances_merged, income_energy_home, on='home', how='inner')\n",
    "appliance_income_energy_home"
   ]
  },
  {
   "cell_type": "markdown",
   "metadata": {},
   "source": [
    "## Handle education levels in person Data Frame\n",
    "| Qualification                                                           | Value |\n",
    "|-------------------------------------------------------------------------|-------|\n",
    "| phd                                                                     | 9     |\n",
    "| degree level qualification (or equivalent), e.g. bsc, ba, msc, ma       | 8     |\n",
    "| higher educational qualification below degree level                    | 7     |\n",
    "| onc / national level btec                                               | 6     |\n",
    "| a-levels or highers                                                     | 5     |\n",
    "| gcse grade d-g or cse grade 2-5 or standard grade level 4-6              | 4     |\n",
    "| o level or gcse equivalent (grade a-c) or o grade/cse equivalent (grade 1) or standard grade level 1 | 3     |\n",
    "| other qualifications                                                     | 2     |\n",
    "| no formal qualifications                                                 | 1     |\n",
    "| unknown                                                                 | 0     |\n",
    "\n"
   ]
  },
  {
   "cell_type": "code",
   "execution_count": 7,
   "metadata": {},
   "outputs": [],
   "source": [
    "# Transform education column\n",
    "person['education'] = person['education'].str.strip().str.lower()\n",
    "person['education'] = person['education'].fillna('unknown')\n",
    "\n",
    "# Map qualifications to numerical values\n",
    "qualification_mapping = {\n",
    "    \"phd\": 9,  # Highest qualification\n",
    "    \"degree level qualification (or equivalent), e.g. bsc, ba, msc, ma\": 8,\n",
    "    \"higher educational qualification below degree level\": 7,\n",
    "    \"onc / national level btec\": 6,\n",
    "    \"a-levels or highers\": 5,\n",
    "    \"gcse grade d-g or cse grade 2-5 or standard grade level 4-6\": 4,\n",
    "    \"o level or gcse equivalent (grade a-c) or o grade/cse equivalent (grade 1) or standard grade level 1\": 3,\n",
    "    \"other qualifications\": 2, \n",
    "    \"no formal qualifications\": 1,\n",
    "    \"unknown\": 0 } # Lowest qualification\n",
    "person['education_map'] = person['education'].map(qualification_mapping)\n",
    "person = person.rename(columns={'homeid': 'home'})"
   ]
  },
  {
   "cell_type": "code",
   "execution_count": 8,
   "metadata": {},
   "outputs": [],
   "source": [
    "# Choose highest education per homeid for representation of household\n",
    "highest_education = person.groupby('home')['education_map'].max().reset_index()\n",
    "\n",
    "# Merge with appliance_income_energy_home\n",
    "appliance_income_energy_education_home = pd.merge(appliance_income_energy_home, highest_education, on='home', how='inner')"
   ]
  },
  {
   "cell_type": "code",
   "execution_count": 12,
   "metadata": {},
   "outputs": [
    {
     "data": {
      "text/html": [
       "<div>\n",
       "<style scoped>\n",
       "    .dataframe tbody tr th:only-of-type {\n",
       "        vertical-align: middle;\n",
       "    }\n",
       "\n",
       "    .dataframe tbody tr th {\n",
       "        vertical-align: top;\n",
       "    }\n",
       "\n",
       "    .dataframe thead th {\n",
       "        text-align: right;\n",
       "    }\n",
       "</style>\n",
       "<table border=\"1\" class=\"dataframe\">\n",
       "  <thead>\n",
       "    <tr style=\"text-align: right;\">\n",
       "      <th></th>\n",
       "      <th>home</th>\n",
       "      <th>total_appliances</th>\n",
       "      <th>total_consumption_Wh</th>\n",
       "      <th>income_band_mid</th>\n",
       "      <th>education_map</th>\n",
       "    </tr>\n",
       "  </thead>\n",
       "  <tbody>\n",
       "    <tr>\n",
       "      <th>0</th>\n",
       "      <td>47</td>\n",
       "      <td>27</td>\n",
       "      <td>1187.852340</td>\n",
       "      <td>0</td>\n",
       "      <td>8</td>\n",
       "    </tr>\n",
       "    <tr>\n",
       "      <th>1</th>\n",
       "      <td>59</td>\n",
       "      <td>24</td>\n",
       "      <td>3103.291434</td>\n",
       "      <td>15</td>\n",
       "      <td>8</td>\n",
       "    </tr>\n",
       "    <tr>\n",
       "      <th>2</th>\n",
       "      <td>61</td>\n",
       "      <td>22</td>\n",
       "      <td>2136.057633</td>\n",
       "      <td>11</td>\n",
       "      <td>5</td>\n",
       "    </tr>\n",
       "    <tr>\n",
       "      <th>3</th>\n",
       "      <td>62</td>\n",
       "      <td>22</td>\n",
       "      <td>3562.373903</td>\n",
       "      <td>10</td>\n",
       "      <td>8</td>\n",
       "    </tr>\n",
       "    <tr>\n",
       "      <th>4</th>\n",
       "      <td>63</td>\n",
       "      <td>25</td>\n",
       "      <td>4879.234576</td>\n",
       "      <td>12</td>\n",
       "      <td>8</td>\n",
       "    </tr>\n",
       "    <tr>\n",
       "      <th>...</th>\n",
       "      <td>...</td>\n",
       "      <td>...</td>\n",
       "      <td>...</td>\n",
       "      <td>...</td>\n",
       "      <td>...</td>\n",
       "    </tr>\n",
       "    <tr>\n",
       "      <th>249</th>\n",
       "      <td>331</td>\n",
       "      <td>29</td>\n",
       "      <td>301.531115</td>\n",
       "      <td>12</td>\n",
       "      <td>9</td>\n",
       "    </tr>\n",
       "    <tr>\n",
       "      <th>250</th>\n",
       "      <td>332</td>\n",
       "      <td>24</td>\n",
       "      <td>160.567792</td>\n",
       "      <td>8</td>\n",
       "      <td>8</td>\n",
       "    </tr>\n",
       "    <tr>\n",
       "      <th>251</th>\n",
       "      <td>333</td>\n",
       "      <td>14</td>\n",
       "      <td>252.520378</td>\n",
       "      <td>12</td>\n",
       "      <td>8</td>\n",
       "    </tr>\n",
       "    <tr>\n",
       "      <th>252</th>\n",
       "      <td>334</td>\n",
       "      <td>37</td>\n",
       "      <td>637.891330</td>\n",
       "      <td>1</td>\n",
       "      <td>9</td>\n",
       "    </tr>\n",
       "    <tr>\n",
       "      <th>253</th>\n",
       "      <td>335</td>\n",
       "      <td>35</td>\n",
       "      <td>474.346755</td>\n",
       "      <td>14</td>\n",
       "      <td>8</td>\n",
       "    </tr>\n",
       "  </tbody>\n",
       "</table>\n",
       "<p>254 rows × 5 columns</p>\n",
       "</div>"
      ],
      "text/plain": [
       "     home  total_appliances  total_consumption_Wh  income_band_mid  \\\n",
       "0      47                27           1187.852340                0   \n",
       "1      59                24           3103.291434               15   \n",
       "2      61                22           2136.057633               11   \n",
       "3      62                22           3562.373903               10   \n",
       "4      63                25           4879.234576               12   \n",
       "..    ...               ...                   ...              ...   \n",
       "249   331                29            301.531115               12   \n",
       "250   332                24            160.567792                8   \n",
       "251   333                14            252.520378               12   \n",
       "252   334                37            637.891330                1   \n",
       "253   335                35            474.346755               14   \n",
       "\n",
       "     education_map  \n",
       "0                8  \n",
       "1                8  \n",
       "2                5  \n",
       "3                8  \n",
       "4                8  \n",
       "..             ...  \n",
       "249              9  \n",
       "250              8  \n",
       "251              8  \n",
       "252              9  \n",
       "253              8  \n",
       "\n",
       "[254 rows x 5 columns]"
      ]
     },
     "execution_count": 12,
     "metadata": {},
     "output_type": "execute_result"
    }
   ],
   "source": [
    "appliance_income_energy_education_home"
   ]
  },
  {
   "cell_type": "markdown",
   "metadata": {},
   "source": [
    "## KMeans Clustering with Scaling"
   ]
  },
  {
   "cell_type": "code",
   "execution_count": 16,
   "metadata": {},
   "outputs": [
    {
     "name": "stdout",
     "output_type": "stream",
     "text": [
      "Silhouette Score for 2 clusters: 0.24283551338582549\n",
      "Silhouette Score for 3 clusters: 0.26432280633550853\n",
      "Silhouette Score for 4 clusters: 0.25833995840457347\n",
      "Silhouette Score for 5 clusters: 0.2541549823025695\n",
      "Silhouette Score for 6 clusters: 0.2351714948754791\n",
      "Silhouette Score for 7 clusters: 0.2330702855910369\n",
      "Silhouette Score for 8 clusters: 0.22838299034758033\n",
      "Silhouette Score for 9 clusters: 0.23314284363249216\n",
      "Silhouette Score for 10 clusters: 0.24354903799408198\n",
      "Silhouette Score for 11 clusters: 0.21575054291102627\n",
      "Silhouette Score for 12 clusters: 0.21530060237697402\n",
      "Silhouette Score for 13 clusters: 0.2020909193950953\n",
      "Silhouette Score for 14 clusters: 0.2110399165318877\n",
      "Silhouette Score for 15 clusters: 0.21175150569356851\n",
      "Silhouette Score for 16 clusters: 0.21773516199201334\n",
      "Silhouette Score for 17 clusters: 0.20110994191520387\n",
      "Silhouette Score for 18 clusters: 0.20028075480897026\n",
      "Silhouette Score for 19 clusters: 0.19715839677661576\n"
     ]
    },
    {
     "data": {
      "text/html": [
       "<div>\n",
       "<style scoped>\n",
       "    .dataframe tbody tr th:only-of-type {\n",
       "        vertical-align: middle;\n",
       "    }\n",
       "\n",
       "    .dataframe tbody tr th {\n",
       "        vertical-align: top;\n",
       "    }\n",
       "\n",
       "    .dataframe thead th {\n",
       "        text-align: right;\n",
       "    }\n",
       "</style>\n",
       "<table border=\"1\" class=\"dataframe\">\n",
       "  <thead>\n",
       "    <tr style=\"text-align: right;\">\n",
       "      <th></th>\n",
       "      <th>total_appliances</th>\n",
       "      <th>total_consumption_Wh</th>\n",
       "      <th>income_band_mid</th>\n",
       "      <th>education_map</th>\n",
       "    </tr>\n",
       "  </thead>\n",
       "  <tbody>\n",
       "    <tr>\n",
       "      <th>0</th>\n",
       "      <td>-0.105986</td>\n",
       "      <td>-0.677762</td>\n",
       "      <td>-2.137473</td>\n",
       "      <td>0.235131</td>\n",
       "    </tr>\n",
       "    <tr>\n",
       "      <th>1</th>\n",
       "      <td>-0.490564</td>\n",
       "      <td>0.561191</td>\n",
       "      <td>1.475558</td>\n",
       "      <td>0.235131</td>\n",
       "    </tr>\n",
       "    <tr>\n",
       "      <th>2</th>\n",
       "      <td>-0.746949</td>\n",
       "      <td>-0.064440</td>\n",
       "      <td>0.512083</td>\n",
       "      <td>-2.032837</td>\n",
       "    </tr>\n",
       "    <tr>\n",
       "      <th>3</th>\n",
       "      <td>-0.746949</td>\n",
       "      <td>0.858137</td>\n",
       "      <td>0.271214</td>\n",
       "      <td>0.235131</td>\n",
       "    </tr>\n",
       "    <tr>\n",
       "      <th>4</th>\n",
       "      <td>-0.362371</td>\n",
       "      <td>1.709914</td>\n",
       "      <td>0.752952</td>\n",
       "      <td>0.235131</td>\n",
       "    </tr>\n",
       "    <tr>\n",
       "      <th>...</th>\n",
       "      <td>...</td>\n",
       "      <td>...</td>\n",
       "      <td>...</td>\n",
       "      <td>...</td>\n",
       "    </tr>\n",
       "    <tr>\n",
       "      <th>249</th>\n",
       "      <td>0.150399</td>\n",
       "      <td>-1.251056</td>\n",
       "      <td>0.752952</td>\n",
       "      <td>0.991120</td>\n",
       "    </tr>\n",
       "    <tr>\n",
       "      <th>250</th>\n",
       "      <td>-0.490564</td>\n",
       "      <td>-1.342235</td>\n",
       "      <td>-0.210523</td>\n",
       "      <td>0.235131</td>\n",
       "    </tr>\n",
       "    <tr>\n",
       "      <th>251</th>\n",
       "      <td>-1.772490</td>\n",
       "      <td>-1.282758</td>\n",
       "      <td>0.752952</td>\n",
       "      <td>0.235131</td>\n",
       "    </tr>\n",
       "    <tr>\n",
       "      <th>252</th>\n",
       "      <td>1.175940</td>\n",
       "      <td>-1.033490</td>\n",
       "      <td>-1.896605</td>\n",
       "      <td>0.991120</td>\n",
       "    </tr>\n",
       "    <tr>\n",
       "      <th>253</th>\n",
       "      <td>0.919555</td>\n",
       "      <td>-1.139275</td>\n",
       "      <td>1.234690</td>\n",
       "      <td>0.235131</td>\n",
       "    </tr>\n",
       "  </tbody>\n",
       "</table>\n",
       "<p>254 rows × 4 columns</p>\n",
       "</div>"
      ],
      "text/plain": [
       "     total_appliances  total_consumption_Wh  income_band_mid  education_map\n",
       "0           -0.105986             -0.677762        -2.137473       0.235131\n",
       "1           -0.490564              0.561191         1.475558       0.235131\n",
       "2           -0.746949             -0.064440         0.512083      -2.032837\n",
       "3           -0.746949              0.858137         0.271214       0.235131\n",
       "4           -0.362371              1.709914         0.752952       0.235131\n",
       "..                ...                   ...              ...            ...\n",
       "249          0.150399             -1.251056         0.752952       0.991120\n",
       "250         -0.490564             -1.342235        -0.210523       0.235131\n",
       "251         -1.772490             -1.282758         0.752952       0.235131\n",
       "252          1.175940             -1.033490        -1.896605       0.991120\n",
       "253          0.919555             -1.139275         1.234690       0.235131\n",
       "\n",
       "[254 rows x 4 columns]"
      ]
     },
     "execution_count": 16,
     "metadata": {},
     "output_type": "execute_result"
    }
   ],
   "source": [
    "scaler = StandardScaler()\n",
    "\n",
    "# Separate home and variables\n",
    "home = appliance_income_energy_education_home['home']\n",
    "dataset_clustering = appliance_income_energy_education_home.drop(columns=['home'])\n",
    "dataset_scaled = pd.DataFrame(scaler.fit_transform(dataset_clustering), columns=dataset_clustering.columns)\n",
    "\n",
    "# Perform KMeans Clustering iteratively\n",
    "for i in range(2, 20):\n",
    "    kmeans = KMeans(n_clusters=i, n_init='auto', max_iter=300, random_state=42)\n",
    "    kmeans_model = kmeans.fit(dataset_scaled)\n",
    "    km_clusters = kmeans.labels_\n",
    "\n",
    "    silhouette_score_kmeans = silhouette_score(dataset_scaled, km_clusters)\n",
    "    print(f\"Silhouette Score for {i} clusters: {silhouette_score_kmeans}\")\n",
    "\n",
    "dataset_scaled"
   ]
  },
  {
   "cell_type": "markdown",
   "metadata": {},
   "source": [
    "## KMeans Clustering without Scaling"
   ]
  },
  {
   "cell_type": "code",
   "execution_count": 10,
   "metadata": {},
   "outputs": [
    {
     "name": "stdout",
     "output_type": "stream",
     "text": [
      "Silhouette Score for 2 clusters: 0.38147271310093644\n",
      "Silhouette Score for 3 clusters: 0.3529825257939955\n",
      "Silhouette Score for 4 clusters: 0.30818246613751366\n",
      "Silhouette Score for 5 clusters: 0.36492002103507587\n",
      "Silhouette Score for 6 clusters: 0.32520425762112626\n",
      "Silhouette Score for 7 clusters: 0.30370149035210675\n",
      "Silhouette Score for 8 clusters: 0.2898010898736138\n",
      "Silhouette Score for 9 clusters: 0.3027152568891039\n",
      "Silhouette Score for 10 clusters: 0.3029956841837439\n",
      "Silhouette Score for 11 clusters: 0.3223903928679306\n",
      "Silhouette Score for 12 clusters: 0.3133517472330038\n",
      "Silhouette Score for 13 clusters: 0.3023821260242625\n",
      "Silhouette Score for 14 clusters: 0.3032546644886508\n",
      "Silhouette Score for 15 clusters: 0.2986882105792635\n",
      "Silhouette Score for 16 clusters: 0.3032081074272445\n",
      "Silhouette Score for 17 clusters: 0.306517941100434\n",
      "Silhouette Score for 18 clusters: 0.30011163313830186\n",
      "Silhouette Score for 19 clusters: 0.3085924932062144\n"
     ]
    }
   ],
   "source": [
    "home = appliance_income_energy_education_home['home']\n",
    "dataset_clustering = appliance_income_energy_education_home.drop(columns=['home', 'total_consumption_Wh'])\n",
    "\n",
    "# Perform KMeans Clustering iteratively\n",
    "for i in range(2, 20):\n",
    "    kmeans = KMeans(n_clusters=i, n_init='auto', max_iter=300, random_state=42)\n",
    "    kmeans_model = kmeans.fit(dataset_clustering)\n",
    "    km_clusters = kmeans.labels_\n",
    "\n",
    "    silhouette_score_kmeans = silhouette_score(dataset_clustering, km_clusters)\n",
    "    print(f\"Silhouette Score for {i} clusters: {silhouette_score_kmeans}\")"
   ]
  },
  {
   "cell_type": "code",
   "execution_count": 18,
   "metadata": {},
   "outputs": [
    {
     "data": {
      "application/vnd.plotly.v1+json": {
       "config": {
        "plotlyServerURL": "https://plot.ly"
       },
       "data": [
        {
         "name": "total_appliances",
         "type": "bar",
         "x": [
          1,
          2,
          3
         ],
         "y": [
          0.635614228841227,
          -0.4846472685825152,
          -0.29450456295790045
         ]
        },
        {
         "name": "total_consumption_Wh",
         "type": "bar",
         "x": [
          1,
          2,
          3
         ],
         "y": [
          0.608272375033914,
          -0.5532544254212701,
          0.4022312456550795
         ]
        },
        {
         "name": "income_band_mid",
         "type": "bar",
         "x": [
          1,
          2,
          3
         ],
         "y": [
          0.6156343384126443,
          -0.4588032645932573,
          -0.366379400766444
         ]
        },
        {
         "name": "education_map",
         "type": "bar",
         "x": [
          1,
          2,
          3
         ],
         "y": [
          0.19273858443367645,
          0.25839170935896694,
          -3.189055926533468
         ]
        }
       ],
       "layout": {
        "barmode": "group",
        "template": {
         "data": {
          "bar": [
           {
            "error_x": {
             "color": "#2a3f5f"
            },
            "error_y": {
             "color": "#2a3f5f"
            },
            "marker": {
             "line": {
              "color": "#E5ECF6",
              "width": 0.5
             },
             "pattern": {
              "fillmode": "overlay",
              "size": 10,
              "solidity": 0.2
             }
            },
            "type": "bar"
           }
          ],
          "barpolar": [
           {
            "marker": {
             "line": {
              "color": "#E5ECF6",
              "width": 0.5
             },
             "pattern": {
              "fillmode": "overlay",
              "size": 10,
              "solidity": 0.2
             }
            },
            "type": "barpolar"
           }
          ],
          "carpet": [
           {
            "aaxis": {
             "endlinecolor": "#2a3f5f",
             "gridcolor": "white",
             "linecolor": "white",
             "minorgridcolor": "white",
             "startlinecolor": "#2a3f5f"
            },
            "baxis": {
             "endlinecolor": "#2a3f5f",
             "gridcolor": "white",
             "linecolor": "white",
             "minorgridcolor": "white",
             "startlinecolor": "#2a3f5f"
            },
            "type": "carpet"
           }
          ],
          "choropleth": [
           {
            "colorbar": {
             "outlinewidth": 0,
             "ticks": ""
            },
            "type": "choropleth"
           }
          ],
          "contour": [
           {
            "colorbar": {
             "outlinewidth": 0,
             "ticks": ""
            },
            "colorscale": [
             [
              0,
              "#0d0887"
             ],
             [
              0.1111111111111111,
              "#46039f"
             ],
             [
              0.2222222222222222,
              "#7201a8"
             ],
             [
              0.3333333333333333,
              "#9c179e"
             ],
             [
              0.4444444444444444,
              "#bd3786"
             ],
             [
              0.5555555555555556,
              "#d8576b"
             ],
             [
              0.6666666666666666,
              "#ed7953"
             ],
             [
              0.7777777777777778,
              "#fb9f3a"
             ],
             [
              0.8888888888888888,
              "#fdca26"
             ],
             [
              1,
              "#f0f921"
             ]
            ],
            "type": "contour"
           }
          ],
          "contourcarpet": [
           {
            "colorbar": {
             "outlinewidth": 0,
             "ticks": ""
            },
            "type": "contourcarpet"
           }
          ],
          "heatmap": [
           {
            "colorbar": {
             "outlinewidth": 0,
             "ticks": ""
            },
            "colorscale": [
             [
              0,
              "#0d0887"
             ],
             [
              0.1111111111111111,
              "#46039f"
             ],
             [
              0.2222222222222222,
              "#7201a8"
             ],
             [
              0.3333333333333333,
              "#9c179e"
             ],
             [
              0.4444444444444444,
              "#bd3786"
             ],
             [
              0.5555555555555556,
              "#d8576b"
             ],
             [
              0.6666666666666666,
              "#ed7953"
             ],
             [
              0.7777777777777778,
              "#fb9f3a"
             ],
             [
              0.8888888888888888,
              "#fdca26"
             ],
             [
              1,
              "#f0f921"
             ]
            ],
            "type": "heatmap"
           }
          ],
          "heatmapgl": [
           {
            "colorbar": {
             "outlinewidth": 0,
             "ticks": ""
            },
            "colorscale": [
             [
              0,
              "#0d0887"
             ],
             [
              0.1111111111111111,
              "#46039f"
             ],
             [
              0.2222222222222222,
              "#7201a8"
             ],
             [
              0.3333333333333333,
              "#9c179e"
             ],
             [
              0.4444444444444444,
              "#bd3786"
             ],
             [
              0.5555555555555556,
              "#d8576b"
             ],
             [
              0.6666666666666666,
              "#ed7953"
             ],
             [
              0.7777777777777778,
              "#fb9f3a"
             ],
             [
              0.8888888888888888,
              "#fdca26"
             ],
             [
              1,
              "#f0f921"
             ]
            ],
            "type": "heatmapgl"
           }
          ],
          "histogram": [
           {
            "marker": {
             "pattern": {
              "fillmode": "overlay",
              "size": 10,
              "solidity": 0.2
             }
            },
            "type": "histogram"
           }
          ],
          "histogram2d": [
           {
            "colorbar": {
             "outlinewidth": 0,
             "ticks": ""
            },
            "colorscale": [
             [
              0,
              "#0d0887"
             ],
             [
              0.1111111111111111,
              "#46039f"
             ],
             [
              0.2222222222222222,
              "#7201a8"
             ],
             [
              0.3333333333333333,
              "#9c179e"
             ],
             [
              0.4444444444444444,
              "#bd3786"
             ],
             [
              0.5555555555555556,
              "#d8576b"
             ],
             [
              0.6666666666666666,
              "#ed7953"
             ],
             [
              0.7777777777777778,
              "#fb9f3a"
             ],
             [
              0.8888888888888888,
              "#fdca26"
             ],
             [
              1,
              "#f0f921"
             ]
            ],
            "type": "histogram2d"
           }
          ],
          "histogram2dcontour": [
           {
            "colorbar": {
             "outlinewidth": 0,
             "ticks": ""
            },
            "colorscale": [
             [
              0,
              "#0d0887"
             ],
             [
              0.1111111111111111,
              "#46039f"
             ],
             [
              0.2222222222222222,
              "#7201a8"
             ],
             [
              0.3333333333333333,
              "#9c179e"
             ],
             [
              0.4444444444444444,
              "#bd3786"
             ],
             [
              0.5555555555555556,
              "#d8576b"
             ],
             [
              0.6666666666666666,
              "#ed7953"
             ],
             [
              0.7777777777777778,
              "#fb9f3a"
             ],
             [
              0.8888888888888888,
              "#fdca26"
             ],
             [
              1,
              "#f0f921"
             ]
            ],
            "type": "histogram2dcontour"
           }
          ],
          "mesh3d": [
           {
            "colorbar": {
             "outlinewidth": 0,
             "ticks": ""
            },
            "type": "mesh3d"
           }
          ],
          "parcoords": [
           {
            "line": {
             "colorbar": {
              "outlinewidth": 0,
              "ticks": ""
             }
            },
            "type": "parcoords"
           }
          ],
          "pie": [
           {
            "automargin": true,
            "type": "pie"
           }
          ],
          "scatter": [
           {
            "fillpattern": {
             "fillmode": "overlay",
             "size": 10,
             "solidity": 0.2
            },
            "type": "scatter"
           }
          ],
          "scatter3d": [
           {
            "line": {
             "colorbar": {
              "outlinewidth": 0,
              "ticks": ""
             }
            },
            "marker": {
             "colorbar": {
              "outlinewidth": 0,
              "ticks": ""
             }
            },
            "type": "scatter3d"
           }
          ],
          "scattercarpet": [
           {
            "marker": {
             "colorbar": {
              "outlinewidth": 0,
              "ticks": ""
             }
            },
            "type": "scattercarpet"
           }
          ],
          "scattergeo": [
           {
            "marker": {
             "colorbar": {
              "outlinewidth": 0,
              "ticks": ""
             }
            },
            "type": "scattergeo"
           }
          ],
          "scattergl": [
           {
            "marker": {
             "colorbar": {
              "outlinewidth": 0,
              "ticks": ""
             }
            },
            "type": "scattergl"
           }
          ],
          "scattermapbox": [
           {
            "marker": {
             "colorbar": {
              "outlinewidth": 0,
              "ticks": ""
             }
            },
            "type": "scattermapbox"
           }
          ],
          "scatterpolar": [
           {
            "marker": {
             "colorbar": {
              "outlinewidth": 0,
              "ticks": ""
             }
            },
            "type": "scatterpolar"
           }
          ],
          "scatterpolargl": [
           {
            "marker": {
             "colorbar": {
              "outlinewidth": 0,
              "ticks": ""
             }
            },
            "type": "scatterpolargl"
           }
          ],
          "scatterternary": [
           {
            "marker": {
             "colorbar": {
              "outlinewidth": 0,
              "ticks": ""
             }
            },
            "type": "scatterternary"
           }
          ],
          "surface": [
           {
            "colorbar": {
             "outlinewidth": 0,
             "ticks": ""
            },
            "colorscale": [
             [
              0,
              "#0d0887"
             ],
             [
              0.1111111111111111,
              "#46039f"
             ],
             [
              0.2222222222222222,
              "#7201a8"
             ],
             [
              0.3333333333333333,
              "#9c179e"
             ],
             [
              0.4444444444444444,
              "#bd3786"
             ],
             [
              0.5555555555555556,
              "#d8576b"
             ],
             [
              0.6666666666666666,
              "#ed7953"
             ],
             [
              0.7777777777777778,
              "#fb9f3a"
             ],
             [
              0.8888888888888888,
              "#fdca26"
             ],
             [
              1,
              "#f0f921"
             ]
            ],
            "type": "surface"
           }
          ],
          "table": [
           {
            "cells": {
             "fill": {
              "color": "#EBF0F8"
             },
             "line": {
              "color": "white"
             }
            },
            "header": {
             "fill": {
              "color": "#C8D4E3"
             },
             "line": {
              "color": "white"
             }
            },
            "type": "table"
           }
          ]
         },
         "layout": {
          "annotationdefaults": {
           "arrowcolor": "#2a3f5f",
           "arrowhead": 0,
           "arrowwidth": 1
          },
          "autotypenumbers": "strict",
          "coloraxis": {
           "colorbar": {
            "outlinewidth": 0,
            "ticks": ""
           }
          },
          "colorscale": {
           "diverging": [
            [
             0,
             "#8e0152"
            ],
            [
             0.1,
             "#c51b7d"
            ],
            [
             0.2,
             "#de77ae"
            ],
            [
             0.3,
             "#f1b6da"
            ],
            [
             0.4,
             "#fde0ef"
            ],
            [
             0.5,
             "#f7f7f7"
            ],
            [
             0.6,
             "#e6f5d0"
            ],
            [
             0.7,
             "#b8e186"
            ],
            [
             0.8,
             "#7fbc41"
            ],
            [
             0.9,
             "#4d9221"
            ],
            [
             1,
             "#276419"
            ]
           ],
           "sequential": [
            [
             0,
             "#0d0887"
            ],
            [
             0.1111111111111111,
             "#46039f"
            ],
            [
             0.2222222222222222,
             "#7201a8"
            ],
            [
             0.3333333333333333,
             "#9c179e"
            ],
            [
             0.4444444444444444,
             "#bd3786"
            ],
            [
             0.5555555555555556,
             "#d8576b"
            ],
            [
             0.6666666666666666,
             "#ed7953"
            ],
            [
             0.7777777777777778,
             "#fb9f3a"
            ],
            [
             0.8888888888888888,
             "#fdca26"
            ],
            [
             1,
             "#f0f921"
            ]
           ],
           "sequentialminus": [
            [
             0,
             "#0d0887"
            ],
            [
             0.1111111111111111,
             "#46039f"
            ],
            [
             0.2222222222222222,
             "#7201a8"
            ],
            [
             0.3333333333333333,
             "#9c179e"
            ],
            [
             0.4444444444444444,
             "#bd3786"
            ],
            [
             0.5555555555555556,
             "#d8576b"
            ],
            [
             0.6666666666666666,
             "#ed7953"
            ],
            [
             0.7777777777777778,
             "#fb9f3a"
            ],
            [
             0.8888888888888888,
             "#fdca26"
            ],
            [
             1,
             "#f0f921"
            ]
           ]
          },
          "colorway": [
           "#636efa",
           "#EF553B",
           "#00cc96",
           "#ab63fa",
           "#FFA15A",
           "#19d3f3",
           "#FF6692",
           "#B6E880",
           "#FF97FF",
           "#FECB52"
          ],
          "font": {
           "color": "#2a3f5f"
          },
          "geo": {
           "bgcolor": "white",
           "lakecolor": "white",
           "landcolor": "#E5ECF6",
           "showlakes": true,
           "showland": true,
           "subunitcolor": "white"
          },
          "hoverlabel": {
           "align": "left"
          },
          "hovermode": "closest",
          "mapbox": {
           "style": "light"
          },
          "paper_bgcolor": "white",
          "plot_bgcolor": "#E5ECF6",
          "polar": {
           "angularaxis": {
            "gridcolor": "white",
            "linecolor": "white",
            "ticks": ""
           },
           "bgcolor": "#E5ECF6",
           "radialaxis": {
            "gridcolor": "white",
            "linecolor": "white",
            "ticks": ""
           }
          },
          "scene": {
           "xaxis": {
            "backgroundcolor": "#E5ECF6",
            "gridcolor": "white",
            "gridwidth": 2,
            "linecolor": "white",
            "showbackground": true,
            "ticks": "",
            "zerolinecolor": "white"
           },
           "yaxis": {
            "backgroundcolor": "#E5ECF6",
            "gridcolor": "white",
            "gridwidth": 2,
            "linecolor": "white",
            "showbackground": true,
            "ticks": "",
            "zerolinecolor": "white"
           },
           "zaxis": {
            "backgroundcolor": "#E5ECF6",
            "gridcolor": "white",
            "gridwidth": 2,
            "linecolor": "white",
            "showbackground": true,
            "ticks": "",
            "zerolinecolor": "white"
           }
          },
          "shapedefaults": {
           "line": {
            "color": "#2a3f5f"
           }
          },
          "ternary": {
           "aaxis": {
            "gridcolor": "white",
            "linecolor": "white",
            "ticks": ""
           },
           "baxis": {
            "gridcolor": "white",
            "linecolor": "white",
            "ticks": ""
           },
           "bgcolor": "#E5ECF6",
           "caxis": {
            "gridcolor": "white",
            "linecolor": "white",
            "ticks": ""
           }
          },
          "title": {
           "x": 0.05
          },
          "xaxis": {
           "automargin": true,
           "gridcolor": "white",
           "linecolor": "white",
           "ticks": "",
           "title": {
            "standoff": 15
           },
           "zerolinecolor": "white",
           "zerolinewidth": 2
          },
          "yaxis": {
           "automargin": true,
           "gridcolor": "white",
           "linecolor": "white",
           "ticks": "",
           "title": {
            "standoff": 15
           },
           "zerolinecolor": "white",
           "zerolinewidth": 2
          }
         }
        },
        "title": {
         "text": "K-means Clustering Results"
        },
        "yaxis": {
         "title": {
          "text": "Count"
         }
        }
       }
      }
     },
     "metadata": {},
     "output_type": "display_data"
    }
   ],
   "source": [
    "# Use 2 clusters for visualizations, as this is optimal value for silhouette score\n",
    "\n",
    "# recalculate the model for two clusters\n",
    "kmeans = KMeans(n_clusters=3, n_init='auto', max_iter=300, random_state=42)\n",
    "kmeans_cluster_model = kmeans.fit(dataset_scaled)\n",
    "km_clusters = kmeans.labels_\n",
    "centroids = kmeans.cluster_centers_.T\n",
    "\n",
    "# Plot the centroids for the clusters\n",
    "centroids_df = pd.DataFrame(centroids.T, columns=dataset_scaled.columns)\n",
    "clusters = [1, 2, 3]\n",
    "\n",
    "fig = go.Figure()\n",
    "for column in centroids_df.columns:\n",
    "    fig.add_trace(go.Bar(x=clusters, y=centroids_df[column], name=column))\n",
    "\n",
    "fig.update_layout(yaxis_title='Count', barmode='group', title='K-means Clustering Results')\n",
    "fig.show()"
   ]
  }
 ],
 "metadata": {
  "kernelspec": {
   "display_name": "base",
   "language": "python",
   "name": "python3"
  },
  "language_info": {
   "codemirror_mode": {
    "name": "ipython",
    "version": 3
   },
   "file_extension": ".py",
   "mimetype": "text/x-python",
   "name": "python",
   "nbconvert_exporter": "python",
   "pygments_lexer": "ipython3",
   "version": "3.12.7"
  }
 },
 "nbformat": 4,
 "nbformat_minor": 2
}
